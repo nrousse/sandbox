{
 "cells": [
  {
   "cell_type": "code",
   "execution_count": 1,
   "metadata": {
    "scrolled": true
   },
   "outputs": [],
   "source": [
    "import pytoulbar2,CFN\n",
    "import numpy as np\n",
    "import itertools\n",
    "import pandas as pd"
   ]
  },
  {
   "cell_type": "code",
   "execution_count": 2,
   "metadata": {},
   "outputs": [],
   "source": [
    "\n",
    "# Adds a clique of differences with violation \"cost\" on \"varList\"\n",
    "def addCliqueAllDiff(theCFN, varList, cost):\n",
    "    different = (cost*np.identity(size, dtype=np.int64)).flatten()\n",
    "    for vp in itertools.combinations(varList,2):\n",
    "        theCFN.AddFunction(vp,different)\n",
    "\n",
    "# Sets the value of variable with index \"vIdx\" to \"value\" using a unary function\n",
    "def setHint(theCFN,vIdx,value):\n",
    "    costs = myCFN.GetUB()*np.ones(size, dtype = np.int64)\n",
    "    costs[value-1] = 0\n",
    "    theCFN.AddFunction([vIdx], costs)\n",
    "    return costs\n",
    "\n",
    "def printGrid(l):\n",
    "    for i,v in enumerate(l):\n",
    "        print(v,end=(' ' if (i+1)%size else '\\n'))\n"
   ]
  },
  {
   "cell_type": "code",
   "execution_count": 3,
   "metadata": {},
   "outputs": [],
   "source": [
    "# For description\n",
    "\n",
    "tut = True # tut = False\n",
    "\n",
    "def tut_sel(variable_indice):\n",
    "    return (variable_indice==0 or variable_indice==10 or variable_indice==79)\n",
    "\n",
    "def tut_printGrid(l):\n",
    "    s = \"   \"\n",
    "    for i,v in enumerate(l):\n",
    "        #print(v,end=(' ' if (i+1)%size else '\\n'))\n",
    "        if (i+1)%size :\n",
    "            s += str(v) + ' '\n",
    "        else :\n",
    "            s += str(v)\n",
    "            tut_print(s)\n",
    "            s = \"   \"\n"
   ]
  },
  {
   "cell_type": "markdown",
   "metadata": {},
   "source": [
    "# Problem definition\n",
    "\n",
    "The n×n Sudoku problem is defined over a grid of n^2 × n^2 cells that each contains a number between 1 and n^2. This grid is subdivided in n^2 sub-grids of size n × n. A solved Sudoku grid is such that the numbers in every row, column and n × n sub-grids are all different.\n"
   ]
  },
  {
   "cell_type": "code",
   "execution_count": 4,
   "metadata": {},
   "outputs": [
    {
     "name": "stdout",
     "output_type": "stream",
     "text": [
      "\n",
      " In the particular case of n= 3 ,  n^2= 9  :\n",
      "The 3 × 3 Sudoku problem is defined over a grid of 9 × 9 = 81 cells that each contains a number between 1 and 9 . This grid is subdivided in  9 sub-grids of size 3 × 3 . A solved Sudoku grid is such that the numbers in every row, column and 3 × 3 sub-grids are all different.\n"
     ]
    }
   ],
   "source": [
    "\n",
    "# Sudoku size parameter (typical 3 gives 3*3 x 3*3 grid)\n",
    "par = 3\n",
    "size = par * par\n",
    "\n",
    "print(\"\\n\", \"In the particular case of n=\", par, \", \", \"n^2=\", size, \" :\")\n",
    "print(\"The\", par, \"×\", par, \"Sudoku problem is defined over a grid of\", size, \"×\", size, \"=\", size*size, \"cells that each contains a number between 1 and\", size, \". This grid is subdivided in \", size, \"sub-grids of size\", par, \"×\", par, \". A solved Sudoku grid is such that the numbers in every row, column and\", par, \"×\", par, \"sub-grids are all different.\")"
   ]
  },
  {
   "cell_type": "markdown",
   "metadata": {},
   "source": [
    "# Builds the problem"
   ]
  },
  {
   "cell_type": "code",
   "execution_count": 5,
   "metadata": {},
   "outputs": [],
   "source": [
    "\n",
    "myCFN = CFN.CFN(1)\n",
    "\n",
    "# list of row, column and cells variable indices\n",
    "rows = [ [] for _ in range(size) ]\n",
    "columns = [ [] for _ in range(size) ]\n",
    "cells = [ [] for _ in range(size) ]\n",
    "\n",
    "# create variables and keep indices in row, columns and cells \n",
    "for i in range(size):\n",
    "    for j in range(size):\n",
    "        vIdx = myCFN.AddVariable(\"X\"+str(i+1)+\".\"+str(j+1),range(1,size+1))\n",
    "        columns[j].append(vIdx)\n",
    "        rows[i].append(vIdx)\n",
    "        cells[(i//par)*par+(j//par)].append(vIdx)\n",
    "\n",
    "# add the clique constraints on rows, columns and cells\n",
    "for scope in rows+columns+cells:\n",
    "    addCliqueAllDiff(myCFN,scope, myCFN.GetUB())    \n"
   ]
  },
  {
   "cell_type": "code",
   "execution_count": 6,
   "metadata": {},
   "outputs": [
    {
     "name": "stdout",
     "output_type": "stream",
     "text": [
      "-> Create 81 variables :\n",
      "X1.1 X1.2 X1.3 X1.4 X1.5 X1.6 X1.7 X1.8 X1.9\n",
      "X2.1 X2.2 X2.3 X2.4 X2.5 X2.6 X2.7 X2.8 X2.9\n",
      "X3.1 X3.2 X3.3 X3.4 X3.5 X3.6 X3.7 X3.8 X3.9\n",
      "X4.1 X4.2 X4.3 X4.4 X4.5 X4.6 X4.7 X4.8 X4.9\n",
      "X5.1 X5.2 X5.3 X5.4 X5.5 X5.6 X5.7 X5.8 X5.9\n",
      "X6.1 X6.2 X6.3 X6.4 X6.5 X6.6 X6.7 X6.8 X6.9\n",
      "X7.1 X7.2 X7.3 X7.4 X7.5 X7.6 X7.7 X7.8 X7.9\n",
      "X8.1 X8.2 X8.3 X8.4 X8.5 X8.6 X8.7 X8.8 X8.9\n",
      "X9.1 X9.2 X9.3 X9.4 X9.5 X9.6 X9.7 X9.8 X9.9\n",
      "\n",
      "... with such indices :\n",
      " 0  1  2  3  4  5  6  7  8\n",
      " 9 10 11 12 13 14 15 16 17\n",
      "18 19 20 21 22 23 24 25 26\n",
      "27 28 29 30 31 32 33 34 35\n",
      "36 37 38 39 40 41 42 43 44\n",
      "45 46 47 48 49 50 51 52 53\n",
      "54 55 56 57 58 59 60 61 62\n",
      "63 64 65 66 67 68 69 70 71\n",
      "72 73 74 75 76 77 78 79 80\n",
      "\n",
      "-> Keep those 81 variables indices in rows, columns and cells (each listing 9 lists of 9 variables indices). Those 3* 9 = 27 lists of 9 indices correspond with the sets of variables whose values have to be different (every row, every column and every sub-grids).\n",
      "\n",
      " rows = [\n",
      "   [0, 1, 2, 3, 4, 5, 6, 7, 8]\n",
      "   [9, 10, 11, 12, 13, 14, 15, 16, 17]\n",
      "   [18, 19, 20, 21, 22, 23, 24, 25, 26]\n",
      "   [27, 28, 29, 30, 31, 32, 33, 34, 35]\n",
      "   [36, 37, 38, 39, 40, 41, 42, 43, 44]\n",
      "   [45, 46, 47, 48, 49, 50, 51, 52, 53]\n",
      "   [54, 55, 56, 57, 58, 59, 60, 61, 62]\n",
      "   [63, 64, 65, 66, 67, 68, 69, 70, 71]\n",
      "   [72, 73, 74, 75, 76, 77, 78, 79, 80]\n",
      " ]\n",
      " columns = [\n",
      "   [0, 9, 18, 27, 36, 45, 54, 63, 72]\n",
      "   [1, 10, 19, 28, 37, 46, 55, 64, 73]\n",
      "   [2, 11, 20, 29, 38, 47, 56, 65, 74]\n",
      "   [3, 12, 21, 30, 39, 48, 57, 66, 75]\n",
      "   [4, 13, 22, 31, 40, 49, 58, 67, 76]\n",
      "   [5, 14, 23, 32, 41, 50, 59, 68, 77]\n",
      "   [6, 15, 24, 33, 42, 51, 60, 69, 78]\n",
      "   [7, 16, 25, 34, 43, 52, 61, 70, 79]\n",
      "   [8, 17, 26, 35, 44, 53, 62, 71, 80]\n",
      " ]\n",
      " cells = [\n",
      "   [0, 1, 2, 9, 10, 11, 18, 19, 20]\n",
      "   [3, 4, 5, 12, 13, 14, 21, 22, 23]\n",
      "   [6, 7, 8, 15, 16, 17, 24, 25, 26]\n",
      "   [27, 28, 29, 36, 37, 38, 45, 46, 47]\n",
      "   [30, 31, 32, 39, 40, 41, 48, 49, 50]\n",
      "   [33, 34, 35, 42, 43, 44, 51, 52, 53]\n",
      "   [54, 55, 56, 63, 64, 65, 72, 73, 74]\n",
      "   [57, 58, 59, 66, 67, 68, 75, 76, 77]\n",
      "   [60, 61, 62, 69, 70, 71, 78, 79, 80]\n",
      " ]\n",
      "\n",
      "-> Add the clique constraints on rows, columns and cells : addCliqueAllDiff for each row, each column, each cell.\n"
     ]
    }
   ],
   "source": [
    "# Description\n",
    "\n",
    "tut_indice = 0\n",
    "tut_names = list()\n",
    "tut_indices = list()\n",
    "for i in range(size):\n",
    "    for j in range(size):\n",
    "        ind_txt = \"\"\n",
    "        if tut_indice < 10 : ind_txt = \" \"\n",
    "        tut_names.append(\"X\"+str(i+1)+\".\"+str(j+1))\n",
    "        tut_indices.append(ind_txt+str(tut_indice))\n",
    "        tut_indice = tut_indice + 1\n",
    "        \n",
    "print(\"-> Create\", size*size, \"variables :\")\n",
    "printGrid(tut_names)\n",
    "print(\"\")\n",
    "print(\"... with such indices :\")\n",
    "printGrid(tut_indices)\n",
    "print(\"\")\n",
    "print(\"-> Keep those\", size*size, \"variables indices in rows, columns and cells (each listing\", size, \"lists of\", size, \"variables indices). Those 3*\", size, \"=\", 3*size, \"lists of\", size, \"indices correspond with the sets of variables whose values have to be different (every row, every column and every sub-grids).\")\n",
    "\n",
    "print(\"\")\n",
    "print(\" rows = [\")\n",
    "for row in rows : print(\"  \", row)\n",
    "print(\" ]\")\n",
    "print(\" columns = [\")\n",
    "for column in columns : print(\"  \", column)\n",
    "print(\" ]\")\n",
    "print(\" cells = [\")\n",
    "for cell in cells : print(\"  \", cell)\n",
    "print(\" ]\")\n",
    "print(\"\")\n",
    "\n",
    "print(\"-> Add the clique constraints on rows, columns and cells : addCliqueAllDiff for each row, each column, each cell.\")\n"
   ]
  },
  {
   "cell_type": "markdown",
   "metadata": {},
   "source": [
    "# Solving some grids\n",
    "Here are some prefilled grids/solutions coming from the validation set of the RRN paper (0 meaning unknown) :"
   ]
  },
  {
   "cell_type": "code",
   "execution_count": 7,
   "metadata": {},
   "outputs": [],
   "source": [
    "# Prefilled grids/solutions from the validation set of the RRN paper (0 meaning unknown)\n",
    "valid = pd.read_csv(\"valid.csv.xz\",sep=\",\", header=None).values\n",
    "hints = valid[:][:,0]\n",
    "sols = valid[:][:,1]"
   ]
  },
  {
   "cell_type": "code",
   "execution_count": 8,
   "metadata": {},
   "outputs": [
    {
     "name": "stdout",
     "output_type": "stream",
     "text": [
      " List of 18000 hints :\n",
      " hints =  ['802100050190600040000020073004508910789230500010094000500306200230070000000010700'\n",
      " '000004021084000000000900040025030069300096800006100000000380900400009700200000000'\n",
      " '000073000630800050874010030205009803040530600000000705087000502000400090103000000'\n",
      " ...\n",
      " '380900650020000790000006000860305007000400000070000000519000008008072409000010000'\n",
      " '000608000200010007800200000000090065018000000000300000900530000040000180000000200'\n",
      " '100050400200000090000400000000809070372000000500000000080700000000000201000043500']\n",
      "\n",
      " List of their solutions :\n",
      " sols =  ['872143659193657842456829173324568917789231564615794328547386291231975486968412735'\n",
      " '973864521684521397512973648125738469347296815896145273761382954458619732239457186'\n",
      " '952673184631824957874915236215769843748532619369148725487391562526487391193256478'\n",
      " ...\n",
      " '387924651426158793195736842864395127251487936973261584519643278638572419742819365'\n",
      " '193678524264915837875243691427891365318456972659327418981532746542769183736184259'\n",
      " '169257438254138796837496152416829375372564819598371624685712943743985261921643587']\n",
      "\n",
      "Let's solve one of those cases, hints[i] where i in 0.. 17999 .\n"
     ]
    }
   ],
   "source": [
    "# Description\n",
    "\n",
    "tut_nb_hints = len(hints)\n",
    "print(\" List of\", tut_nb_hints, \"hints :\")\n",
    "print(\" hints = \", hints)\n",
    "print(\"\")\n",
    "print(\" List of their solutions :\")\n",
    "print(\" sols = \", sols)\n",
    "print(\"\")\n",
    "print(\"Let's solve one of those cases, hints[i] where i in 0..\", (tut_nb_hints-1), \".\")"
   ]
  },
  {
   "cell_type": "markdown",
   "metadata": {},
   "source": [
    "## Choosing a grid "
   ]
  },
  {
   "cell_type": "code",
   "execution_count": 9,
   "metadata": {},
   "outputs": [
    {
     "name": "stdout",
     "output_type": "stream",
     "text": [
      "For that, choose INDICE value in 0.. 17999 .\n"
     ]
    }
   ],
   "source": [
    "print(\"For that, choose INDICE value in 0..\", (tut_nb_hints-1), \".\")"
   ]
  },
  {
   "cell_type": "code",
   "execution_count": 10,
   "metadata": {},
   "outputs": [],
   "source": [
    "INDICE = 802"
   ]
  },
  {
   "cell_type": "code",
   "execution_count": 11,
   "metadata": {},
   "outputs": [
    {
     "name": "stdout",
     "output_type": "stream",
     "text": [
      "So let's solve hints[ 802 ] : \n",
      "\n",
      "hints[ 802 ] = 003978000068000407000006000327050640000003590805000000240100000000000073000600020 \n",
      "\n",
      "grid =  [0, 0, 3, 9, 7, 8, 0, 0, 0, 0, 6, 8, 0, 0, 0, 4, 0, 7, 0, 0, 0, 0, 0, 6, 0, 0, 0, 3, 2, 7, 0, 5, 0, 6, 4, 0, 0, 0, 0, 0, 0, 3, 5, 9, 0, 8, 0, 5, 0, 0, 0, 0, 0, 0, 2, 4, 0, 1, 0, 0, 0, 0, 0, 0, 0, 0, 0, 0, 0, 0, 7, 3, 0, 0, 0, 6, 0, 0, 0, 2, 0]\n"
     ]
    }
   ],
   "source": [
    "print(\"So let's solve hints[\",INDICE,\"] :\", \"\\n\")\n",
    "\n",
    "print(\"hints[\",INDICE,\"] =\", hints[INDICE], \"\\n\")\n",
    "\n",
    "grid = [int(h) for h in hints[INDICE]]\n",
    "given_solution = [int(s) for s in sols[INDICE]]\n",
    "\n",
    "print(\"grid = \", grid)\n"
   ]
  },
  {
   "cell_type": "markdown",
   "metadata": {},
   "source": [
    "## Creation of costs functions to represent the values predefinition :"
   ]
  },
  {
   "cell_type": "code",
   "execution_count": 12,
   "metadata": {},
   "outputs": [
    {
     "name": "stdout",
     "output_type": "stream",
     "text": [
      "Predefined values into grid (0 for undefined) are :\n",
      "0 0 3 9 7 8 0 0 0\n",
      "0 6 8 0 0 0 4 0 7\n",
      "0 0 0 0 0 6 0 0 0\n",
      "3 2 7 0 5 0 6 4 0\n",
      "0 0 0 0 0 3 5 9 0\n",
      "8 0 5 0 0 0 0 0 0\n",
      "2 4 0 1 0 0 0 0 0\n",
      "0 0 0 0 0 0 0 7 3\n",
      "0 0 0 6 0 0 0 2 0\n",
      "\n",
      "(Memo) Variables names are :\n",
      "X1.1 X1.2 X1.3 X1.4 X1.5 X1.6 X1.7 X1.8 X1.9\n",
      "X2.1 X2.2 X2.3 X2.4 X2.5 X2.6 X2.7 X2.8 X2.9\n",
      "X3.1 X3.2 X3.3 X3.4 X3.5 X3.6 X3.7 X3.8 X3.9\n",
      "X4.1 X4.2 X4.3 X4.4 X4.5 X4.6 X4.7 X4.8 X4.9\n",
      "X5.1 X5.2 X5.3 X5.4 X5.5 X5.6 X5.7 X5.8 X5.9\n",
      "X6.1 X6.2 X6.3 X6.4 X6.5 X6.6 X6.7 X6.8 X6.9\n",
      "X7.1 X7.2 X7.3 X7.4 X7.5 X7.6 X7.7 X7.8 X7.9\n",
      "X8.1 X8.2 X8.3 X8.4 X8.5 X8.6 X8.7 X8.8 X8.9\n",
      "X9.1 X9.2 X9.3 X9.4 X9.5 X9.6 X9.7 X9.8 X9.9\n",
      "\n",
      "(Memo) Variables indices are :\n",
      " 0  1  2  3  4  5  6  7  8\n",
      " 9 10 11 12 13 14 15 16 17\n",
      "18 19 20 21 22 23 24 25 26\n",
      "27 28 29 30 31 32 33 34 35\n",
      "36 37 38 39 40 41 42 43 44\n",
      "45 46 47 48 49 50 51 52 53\n",
      "54 55 56 57 58 59 60 61 62\n",
      "63 64 65 66 67 68 69 70 71\n",
      "72 73 74 75 76 77 78 79 80\n"
     ]
    }
   ],
   "source": [
    "print(\"Predefined values into grid (0 for undefined) are :\")\n",
    "printGrid(grid)\n",
    "print(\"\")\n",
    "print(\"(Memo) Variables names are :\")\n",
    "printGrid(tut_names)\n",
    "print(\"\")\n",
    "print(\"(Memo) Variables indices are :\")\n",
    "printGrid(tut_indices)"
   ]
  },
  {
   "cell_type": "markdown",
   "metadata": {},
   "source": [
    "-> For each variable whose value is known (predefined into grid), creation of a cost function equal to 0 for its value and equal to UB else :"
   ]
  },
  {
   "cell_type": "code",
   "execution_count": 13,
   "metadata": {},
   "outputs": [
    {
     "name": "stdout",
     "output_type": "stream",
     "text": [
      "\n",
      "=> A cost function created for variables and their indices :\n",
      "\n",
      "   ['X1.3', 'X1.4', 'X1.5', 'X1.6', 'X2.2', 'X2.3', 'X2.7', 'X2.9', 'X3.6', 'X4.1', 'X4.2', 'X4.3', 'X4.5', 'X4.7', 'X4.8', 'X5.6', 'X5.7', 'X5.8', 'X6.1', 'X6.3', 'X7.1', 'X7.2', 'X7.4', 'X8.8', 'X8.9', 'X9.4', 'X9.8']\n",
      "\n",
      "   [2, 3, 4, 5, 10, 11, 15, 17, 23, 27, 28, 29, 31, 33, 34, 41, 42, 43, 45, 47, 54, 55, 57, 70, 71, 75, 79]\n",
      "\n",
      "For example, for the variable X9.8 of 79 indice with known value= 2 , Cost function F_X9.8 created (with F_X9.8[2] = 0) : [1. 0. 1. 1. 1. 1. 1. 1. 1.]\n"
     ]
    }
   ],
   "source": [
    "\n",
    "# fill-in hints: a string of values, 0 denote empty cells\n",
    "tut_indices_costs = list()\n",
    "tut_names_costs = list()\n",
    "for v,h in enumerate(grid):\n",
    "    if h:\n",
    "        tut_indices_costs.append(v)\n",
    "        tut_names_costs.append(tut_names[v])\n",
    "        # tut_costs, tut_v, tut_h : to save the last one\n",
    "        tut_costs = setHint(myCFN,v,h)\n",
    "        tut_v = v\n",
    "        tut_h = h\n",
    "\n",
    "print(\"\")\n",
    "print(\"=> A cost function created for variables and their indices :\")\n",
    "print(\"\")\n",
    "print(\"  \", tut_names_costs)\n",
    "print(\"\")\n",
    "print(\"  \", tut_indices_costs)\n",
    "print(\"\")\n",
    "cf_name = \"F_\" + tut_names[tut_v]\n",
    "print(\"For example, for the variable\", tut_names[tut_v], \"of\", tut_v, \"indice with known value=\", tut_h, \", Cost function\", cf_name, \"created (with\", cf_name+\"[\"+str(tut_h)+\"]\", \"= 0) :\", tut_costs)\n"
   ]
  },
  {
   "cell_type": "markdown",
   "metadata": {},
   "source": [
    "## Solve"
   ]
  },
  {
   "cell_type": "code",
   "execution_count": 14,
   "metadata": {},
   "outputs": [],
   "source": [
    "\n",
    "sol = myCFN.Solve()\n"
   ]
  },
  {
   "cell_type": "code",
   "execution_count": 15,
   "metadata": {},
   "outputs": [
    {
     "name": "stdout",
     "output_type": "stream",
     "text": [
      "\n",
      "=> Solution found :\n",
      "4 5 3 9 7 8 2 1 6\n",
      "9 6 8 3 1 2 4 5 7\n",
      "1 7 2 5 4 6 3 8 9\n",
      "3 2 7 8 5 9 6 4 1\n",
      "6 1 4 7 2 3 5 9 8\n",
      "8 9 5 4 6 1 7 3 2\n",
      "2 4 9 1 3 7 8 6 5\n",
      "5 8 6 2 9 4 1 7 3\n",
      "7 3 1 6 8 5 9 2 4\n",
      "\n",
      "(Memo) Predefined values into grid :\n",
      "0 0 3 9 7 8 0 0 0\n",
      "0 6 8 0 0 0 4 0 7\n",
      "0 0 0 0 0 6 0 0 0\n",
      "3 2 7 0 5 0 6 4 0\n",
      "0 0 0 0 0 3 5 9 0\n",
      "8 0 5 0 0 0 0 0 0\n",
      "2 4 0 1 0 0 0 0 0\n",
      "0 0 0 0 0 0 0 7 3\n",
      "0 0 0 6 0 0 0 2 0\n",
      "\n",
      "(Memo) The solution that had been given with grid was :\n",
      "4 5 3 9 7 8 2 1 6\n",
      "9 6 8 3 1 2 4 5 7\n",
      "1 7 2 5 4 6 3 8 9\n",
      "3 2 7 8 5 9 6 4 1\n",
      "6 1 4 7 2 3 5 9 8\n",
      "8 9 5 4 6 1 7 3 2\n",
      "2 4 9 1 3 7 8 6 5\n",
      "5 8 6 2 9 4 1 7 3\n",
      "7 3 1 6 8 5 9 2 4\n"
     ]
    }
   ],
   "source": [
    "# Description\n",
    "\n",
    "if not tut :\n",
    "    printGrid(sol[0])\n",
    "\n",
    "print(\"\")\n",
    "print(\"=> Solution found :\")\n",
    "printGrid(sol[0])\n",
    "print(\"\")\n",
    "print(\"(Memo) Predefined values into grid :\")\n",
    "printGrid(grid)\n",
    "print(\"\")\n",
    "print(\"(Memo) The solution that had been given with grid was :\")\n",
    "printGrid(given_solution)\n"
   ]
  },
  {
   "cell_type": "code",
   "execution_count": null,
   "metadata": {},
   "outputs": [],
   "source": []
  }
 ],
 "metadata": {
  "kernelspec": {
   "display_name": "Python 3",
   "language": "python",
   "name": "python3"
  },
  "language_info": {
   "codemirror_mode": {
    "name": "ipython",
    "version": 3
   },
   "file_extension": ".py",
   "mimetype": "text/x-python",
   "name": "python",
   "nbconvert_exporter": "python",
   "pygments_lexer": "ipython3",
   "version": "3.6.9"
  }
 },
 "nbformat": 4,
 "nbformat_minor": 4
}
